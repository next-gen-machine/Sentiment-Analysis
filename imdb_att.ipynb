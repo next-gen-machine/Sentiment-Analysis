{
 "cells": [
  {
   "cell_type": "code",
   "execution_count": 1,
   "id": "37f28f61",
   "metadata": {},
   "outputs": [],
   "source": [
    "import tensorflow as tf\n",
    "import pandas as pd\n",
    "import numpy as np\n",
    "from sklearn.model_selection import train_test_split\n",
    "from keras.preprocessing.text import Tokenizer\n",
    "from keras.preprocessing.sequence import pad_sequences\n",
    "from keras.layers import Concatenate,Dense,Input,Embedding,Bidirectional,LSTM,GRU\n",
    "import keras.backend as K\n",
    "from tensorflow.keras.utils import to_categorical"
   ]
  },
  {
   "cell_type": "code",
   "execution_count": 2,
   "id": "1bb377fc",
   "metadata": {},
   "outputs": [],
   "source": [
    "imdb_df = pd.read_csv(\"/home/rohit/datasets/IMDB_Dataset.csv\")"
   ]
  },
  {
   "cell_type": "code",
   "execution_count": 3,
   "id": "593d3e1f",
   "metadata": {},
   "outputs": [],
   "source": [
    "d = {'negative':0,'positive':1}"
   ]
  },
  {
   "cell_type": "code",
   "execution_count": 4,
   "id": "373303f0",
   "metadata": {},
   "outputs": [],
   "source": [
    "imdb_df['sentiment'] = imdb_df['sentiment'].apply(lambda x : d.get(x))"
   ]
  },
  {
   "cell_type": "code",
   "execution_count": 5,
   "id": "17c244fb",
   "metadata": {},
   "outputs": [],
   "source": [
    "X_train,X_test,y_train,y_test = train_test_split(imdb_df['review'],imdb_df['sentiment'],test_size=0.2)"
   ]
  },
  {
   "cell_type": "code",
   "execution_count": 6,
   "id": "db2c6674",
   "metadata": {},
   "outputs": [],
   "source": [
    "X_train = X_train.to_numpy()"
   ]
  },
  {
   "cell_type": "code",
   "execution_count": 7,
   "id": "3adadf89",
   "metadata": {},
   "outputs": [],
   "source": [
    "X_test = X_test.to_numpy()"
   ]
  },
  {
   "cell_type": "code",
   "execution_count": 8,
   "id": "1f5981f9",
   "metadata": {},
   "outputs": [],
   "source": [
    "y_train = y_train.to_numpy()"
   ]
  },
  {
   "cell_type": "code",
   "execution_count": 9,
   "id": "261540ab",
   "metadata": {},
   "outputs": [],
   "source": [
    "y_test = y_test.to_numpy()"
   ]
  },
  {
   "cell_type": "code",
   "execution_count": 10,
   "id": "e51a97d0",
   "metadata": {},
   "outputs": [],
   "source": [
    "#clean_text\n",
    "import re\n",
    "def clean_text(text,punctuations=r'''!()-[]{};:'\"\\,<>./?@#$%^&*_~''',\n",
    "    stop_words=['the', 'a', 'and', 'is', 'be', 'will']):\n",
    "    \n",
    "    \n",
    "    text = re.sub(r'https?://\\S+|www\\.\\S+', '',text)\n",
    "    text = re.sub(r'<.*?>', '',text)\n",
    "    # Removing the punctuations\n",
    "    for x in text.lower(): \n",
    "        if x in punctuations: \n",
    "            text = text.replace(x, \"\")\n",
    "            \n",
    "    text = text.lower()\n",
    "    # Removing stop words\n",
    "    text = ' '.join([word for word in text.split() if word not in stop_words])\n",
    "    \n",
    "    \n",
    "    \n",
    "    text = re.sub(r'\\s+', ' ',text).strip()\n",
    "    return text"
   ]
  },
  {
   "cell_type": "code",
   "execution_count": 11,
   "id": "2e7dcd05",
   "metadata": {},
   "outputs": [],
   "source": [
    "X_train = [clean_text(x) for x in X_train]"
   ]
  },
  {
   "cell_type": "code",
   "execution_count": 12,
   "id": "fa92e340",
   "metadata": {},
   "outputs": [],
   "source": [
    "X_test = [clean_text(x) for x in X_test]"
   ]
  },
  {
   "cell_type": "code",
   "execution_count": 13,
   "id": "1b64bc3d",
   "metadata": {},
   "outputs": [],
   "source": [
    "t=Tokenizer()\n",
    "t.fit_on_texts(X_train)\n",
    "text_matrix=t.texts_to_sequences(X_train)"
   ]
  },
  {
   "cell_type": "code",
   "execution_count": 14,
   "id": "05c6cb08",
   "metadata": {},
   "outputs": [],
   "source": [
    "test_matrix = t.texts_to_sequences(X_test)"
   ]
  },
  {
   "cell_type": "code",
   "execution_count": 15,
   "id": "51fdc11d",
   "metadata": {},
   "outputs": [],
   "source": [
    "vocab_length = len(t.word_index) + 1"
   ]
  },
  {
   "cell_type": "code",
   "execution_count": 17,
   "id": "41e3941f",
   "metadata": {},
   "outputs": [],
   "source": [
    "from keras.preprocessing.sequence import pad_sequences\n",
    "text_pad = pad_sequences(text_matrix, maxlen=128, padding='post')"
   ]
  },
  {
   "cell_type": "code",
   "execution_count": 25,
   "id": "02067ea7",
   "metadata": {},
   "outputs": [],
   "source": [
    "test_pad = pad_sequences(test_matrix, maxlen=128, padding='post')"
   ]
  },
  {
   "cell_type": "code",
   "execution_count": 19,
   "id": "9b96c04e",
   "metadata": {},
   "outputs": [],
   "source": [
    "from keras.layers import Layer\n",
    "import keras.backend as K"
   ]
  },
  {
   "cell_type": "code",
   "execution_count": 20,
   "id": "f5b05cd5",
   "metadata": {},
   "outputs": [],
   "source": [
    "class attention(Layer):\n",
    "    def __init__(self,**kwargs):\n",
    "        super(attention,self).__init__(**kwargs)\n",
    "\n",
    "    def build(self,input_shape):\n",
    "        self.W=self.add_weight(name=\"att_weight\",shape=(input_shape[-1],1),initializer=\"normal\")\n",
    "        self.b=self.add_weight(name=\"att_bias\",shape=(input_shape[1],1),initializer=\"zeros\")        \n",
    "        super(attention, self).build(input_shape)\n",
    "\n",
    "    def call(self,x):\n",
    "        et=K.squeeze(K.tanh(K.dot(x,self.W)+self.b),axis=-1)\n",
    "        at=K.softmax(et)\n",
    "        at=K.expand_dims(at,axis=-1)\n",
    "        output=x*at\n",
    "        return K.sum(output,axis=1)\n",
    "\n",
    "    def compute_output_shape(self,input_shape):\n",
    "        return (input_shape[0],input_shape[-1])\n",
    "\n",
    "    def get_config(self):\n",
    "        return super(attention,self).get_config()"
   ]
  },
  {
   "cell_type": "code",
   "execution_count": 21,
   "id": "dc4cf2be",
   "metadata": {},
   "outputs": [],
   "source": [
    "import keras"
   ]
  },
  {
   "cell_type": "code",
   "execution_count": 22,
   "id": "59e88d72",
   "metadata": {},
   "outputs": [
    {
     "name": "stderr",
     "output_type": "stream",
     "text": [
      "2022-08-24 04:08:32.188252: I tensorflow/stream_executor/cuda/cuda_gpu_executor.cc:937] successful NUMA node read from SysFS had negative value (-1), but there must be at least one NUMA node, so returning NUMA node zero\n"
     ]
    },
    {
     "name": "stdout",
     "output_type": "stream",
     "text": [
      "WARNING:tensorflow:Layer lstm will not use cuDNN kernels since it doesn't meet the criteria. It will use a generic GPU kernel as fallback when running on GPU.\n",
      "Model: \"model\"\n",
      "_________________________________________________________________\n",
      "Layer (type)                 Output Shape              Param #   \n",
      "=================================================================\n",
      "input_1 (InputLayer)         [(None, 128)]             0         \n",
      "_________________________________________________________________\n",
      "embedding (Embedding)        (None, 128, 100)          19241100  \n",
      "_________________________________________________________________\n",
      "lstm (LSTM)                  (None, 128, 100)          80400     \n",
      "_________________________________________________________________\n",
      "attention (attention)        (None, 100)               228       \n",
      "_________________________________________________________________\n",
      "dense (Dense)                (None, 1)                 101       \n",
      "=================================================================\n",
      "Total params: 19,321,829\n",
      "Trainable params: 19,321,829\n",
      "Non-trainable params: 0\n",
      "_________________________________________________________________\n"
     ]
    },
    {
     "name": "stderr",
     "output_type": "stream",
     "text": [
      "2022-08-24 04:08:32.195995: I tensorflow/stream_executor/cuda/cuda_gpu_executor.cc:937] successful NUMA node read from SysFS had negative value (-1), but there must be at least one NUMA node, so returning NUMA node zero\n",
      "2022-08-24 04:08:32.196464: I tensorflow/stream_executor/cuda/cuda_gpu_executor.cc:937] successful NUMA node read from SysFS had negative value (-1), but there must be at least one NUMA node, so returning NUMA node zero\n",
      "2022-08-24 04:08:32.197522: I tensorflow/core/platform/cpu_feature_guard.cc:142] This TensorFlow binary is optimized with oneAPI Deep Neural Network Library (oneDNN) to use the following CPU instructions in performance-critical operations:  AVX2 FMA\n",
      "To enable them in other operations, rebuild TensorFlow with the appropriate compiler flags.\n",
      "2022-08-24 04:08:32.197953: I tensorflow/stream_executor/cuda/cuda_gpu_executor.cc:937] successful NUMA node read from SysFS had negative value (-1), but there must be at least one NUMA node, so returning NUMA node zero\n",
      "2022-08-24 04:08:32.198366: I tensorflow/stream_executor/cuda/cuda_gpu_executor.cc:937] successful NUMA node read from SysFS had negative value (-1), but there must be at least one NUMA node, so returning NUMA node zero\n",
      "2022-08-24 04:08:32.198758: I tensorflow/stream_executor/cuda/cuda_gpu_executor.cc:937] successful NUMA node read from SysFS had negative value (-1), but there must be at least one NUMA node, so returning NUMA node zero\n",
      "2022-08-24 04:08:32.547512: I tensorflow/stream_executor/cuda/cuda_gpu_executor.cc:937] successful NUMA node read from SysFS had negative value (-1), but there must be at least one NUMA node, so returning NUMA node zero\n",
      "2022-08-24 04:08:32.547885: I tensorflow/stream_executor/cuda/cuda_gpu_executor.cc:937] successful NUMA node read from SysFS had negative value (-1), but there must be at least one NUMA node, so returning NUMA node zero\n",
      "2022-08-24 04:08:32.548228: I tensorflow/stream_executor/cuda/cuda_gpu_executor.cc:937] successful NUMA node read from SysFS had negative value (-1), but there must be at least one NUMA node, so returning NUMA node zero\n",
      "2022-08-24 04:08:32.548527: I tensorflow/core/common_runtime/gpu/gpu_device.cc:1510] Created device /job:localhost/replica:0/task:0/device:GPU:0 with 10411 MB memory:  -> device: 0, name: GeForce GTX 1080 Ti, pci bus id: 0000:01:00.0, compute capability: 6.1\n"
     ]
    }
   ],
   "source": [
    "inputs=Input((128,))\n",
    "x=Embedding(input_dim=vocab_length,output_dim=100,input_length=128,\\\n",
    "            embeddings_regularizer=keras.regularizers.l2(.001))(inputs)\n",
    "att_in=LSTM(100,return_sequences=True,dropout=0.3,recurrent_dropout=0.2)(x)\n",
    "att_out=attention()(att_in)\n",
    "outputs=Dense(1,activation='sigmoid',trainable=True)(att_out)\n",
    "model=keras.Model(inputs,outputs)\n",
    "model.summary()"
   ]
  },
  {
   "cell_type": "code",
   "execution_count": 23,
   "id": "b521210f",
   "metadata": {},
   "outputs": [
    {
     "name": "stderr",
     "output_type": "stream",
     "text": [
      "2022-08-24 04:08:38.779283: I tensorflow/compiler/mlir/mlir_graph_optimization_pass.cc:185] None of the MLIR Optimization Passes are enabled (registered 2)\n"
     ]
    },
    {
     "name": "stdout",
     "output_type": "stream",
     "text": [
      "Epoch 1/8\n",
      "125/125 [==============================] - 15s 107ms/step - loss: 2.3952 - acc: 0.7266 - val_loss: 0.4823 - val_acc: 0.8420\n",
      "Epoch 2/8\n",
      "125/125 [==============================] - 13s 106ms/step - loss: 0.4647 - acc: 0.8624 - val_loss: 0.4777 - val_acc: 0.8500\n",
      "Epoch 3/8\n",
      "125/125 [==============================] - 13s 105ms/step - loss: 0.4391 - acc: 0.8795 - val_loss: 0.4865 - val_acc: 0.8544\n",
      "Epoch 4/8\n",
      "125/125 [==============================] - 13s 106ms/step - loss: 0.4311 - acc: 0.8867 - val_loss: 0.4692 - val_acc: 0.8634\n",
      "Epoch 5/8\n",
      "125/125 [==============================] - 13s 105ms/step - loss: 0.4135 - acc: 0.8947 - val_loss: 0.4664 - val_acc: 0.8660\n",
      "Epoch 6/8\n",
      "125/125 [==============================] - 13s 106ms/step - loss: 0.3947 - acc: 0.9050 - val_loss: 0.4758 - val_acc: 0.8645\n",
      "Epoch 7/8\n",
      "125/125 [==============================] - 13s 106ms/step - loss: 0.3781 - acc: 0.9134 - val_loss: 0.4785 - val_acc: 0.8694\n",
      "Epoch 8/8\n",
      "125/125 [==============================] - 13s 107ms/step - loss: 0.3610 - acc: 0.9214 - val_loss: 0.4877 - val_acc: 0.8651\n"
     ]
    },
    {
     "data": {
      "text/plain": [
       "<keras.callbacks.History at 0x7fe48657ccd0>"
      ]
     },
     "execution_count": 23,
     "metadata": {},
     "output_type": "execute_result"
    }
   ],
   "source": [
    "model.compile(loss='binary_crossentropy', optimizer='adam', metrics=['acc'])\n",
    "model.fit(text_pad,y_train,batch_size=256,epochs=8,verbose=1,shuffle=True,validation_split=0.2)"
   ]
  },
  {
   "cell_type": "code",
   "execution_count": 26,
   "id": "da7277ec",
   "metadata": {},
   "outputs": [
    {
     "name": "stdout",
     "output_type": "stream",
     "text": [
      "313/313 [==============================] - 6s 18ms/step - loss: 0.4824 - acc: 0.8705\n"
     ]
    },
    {
     "data": {
      "text/plain": [
       "[0.482359915971756, 0.8705000281333923]"
      ]
     },
     "execution_count": 26,
     "metadata": {},
     "output_type": "execute_result"
    }
   ],
   "source": [
    "model.evaluate(test_pad,y_test)"
   ]
  },
  {
   "cell_type": "code",
   "execution_count": null,
   "id": "57a89c56",
   "metadata": {},
   "outputs": [],
   "source": []
  }
 ],
 "metadata": {
  "kernelspec": {
   "display_name": "Python 3 (ipykernel)",
   "language": "python",
   "name": "python3"
  },
  "language_info": {
   "codemirror_mode": {
    "name": "ipython",
    "version": 3
   },
   "file_extension": ".py",
   "mimetype": "text/x-python",
   "name": "python",
   "nbconvert_exporter": "python",
   "pygments_lexer": "ipython3",
   "version": "3.8.11"
  }
 },
 "nbformat": 4,
 "nbformat_minor": 5
}
